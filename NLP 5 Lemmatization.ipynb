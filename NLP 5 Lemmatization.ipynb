{
 "cells": [
  {
   "cell_type": "code",
   "execution_count": 1,
   "id": "d7ccae5f-e1e4-4325-8f2a-aa917a25b50e",
   "metadata": {},
   "outputs": [],
   "source": [
    "import spacy"
   ]
  },
  {
   "cell_type": "code",
   "execution_count": 2,
   "id": "be2d5980-db12-48e9-aaec-af1d5166a1da",
   "metadata": {},
   "outputs": [],
   "source": [
    "nlp=spacy.load('en_core_web_sm')"
   ]
  },
  {
   "cell_type": "code",
   "execution_count": 3,
   "id": "a356aeb4-7d88-4716-9b08-c007e4d627ef",
   "metadata": {},
   "outputs": [],
   "source": [
    "doc1 = nlp(u\"I am a runner running in a race because I love to run since I ran today\")"
   ]
  },
  {
   "cell_type": "code",
   "execution_count": 5,
   "id": "a8e1dafc-2022-4e6a-b86b-53f55aefa83a",
   "metadata": {},
   "outputs": [
    {
     "name": "stdout",
     "output_type": "stream",
     "text": [
      "I \t PRON \t 4690420944186131903 \t I \t\n",
      "am \t AUX \t 10382539506755952630 \t be \t\n",
      "a \t DET \t 11901859001352538922 \t a \t\n",
      "runner \t NOUN \t 12640964157389618806 \t runner \t\n",
      "running \t VERB \t 12767647472892411841 \t run \t\n",
      "in \t ADP \t 3002984154512732771 \t in \t\n",
      "a \t DET \t 11901859001352538922 \t a \t\n",
      "race \t NOUN \t 8048469955494714898 \t race \t\n",
      "because \t SCONJ \t 16950148841647037698 \t because \t\n",
      "I \t PRON \t 4690420944186131903 \t I \t\n",
      "love \t VERB \t 3702023516439754181 \t love \t\n",
      "to \t PART \t 3791531372978436496 \t to \t\n",
      "run \t VERB \t 12767647472892411841 \t run \t\n",
      "since \t SCONJ \t 10066841407251338481 \t since \t\n",
      "I \t PRON \t 4690420944186131903 \t I \t\n",
      "ran \t VERB \t 12767647472892411841 \t run \t\n",
      "today \t NOUN \t 11042482332948150395 \t today \t\n"
     ]
    }
   ],
   "source": [
    "for token in doc1:\n",
    "    print(token.text,'\\t',token.pos_,'\\t',token.lemma,'\\t',token.lemma_,'\\t')"
   ]
  },
  {
   "cell_type": "code",
   "execution_count": 6,
   "id": "2e7e9546-b251-4459-ab1f-629eef0c699b",
   "metadata": {},
   "outputs": [],
   "source": [
    "def show_lemmas(text):\n",
    "    for token in text:\n",
    "        print(f'{token.text:{12}} {token.pos_:{6}} {token.lemma:<{22}} {token.lemma_}')"
   ]
  },
  {
   "cell_type": "code",
   "execution_count": 7,
   "id": "2cac7850-1c2c-4898-a69f-1e1e462df5a9",
   "metadata": {},
   "outputs": [
    {
     "name": "stdout",
     "output_type": "stream",
     "text": [
      "I            PRON   4690420944186131903    I\n",
      "am           AUX    10382539506755952630   be\n",
      "a            DET    11901859001352538922   a\n",
      "runner       NOUN   12640964157389618806   runner\n",
      "running      VERB   12767647472892411841   run\n",
      "in           ADP    3002984154512732771    in\n",
      "a            DET    11901859001352538922   a\n",
      "race         NOUN   8048469955494714898    race\n",
      "because      SCONJ  16950148841647037698   because\n",
      "I            PRON   4690420944186131903    I\n",
      "love         VERB   3702023516439754181    love\n",
      "to           PART   3791531372978436496    to\n",
      "run          VERB   12767647472892411841   run\n",
      "since        SCONJ  10066841407251338481   since\n",
      "I            PRON   4690420944186131903    I\n",
      "ran          VERB   12767647472892411841   run\n",
      "today        NOUN   11042482332948150395   today\n"
     ]
    }
   ],
   "source": [
    "show_lemmas(doc1)  # See the word run."
   ]
  },
  {
   "cell_type": "code",
   "execution_count": 8,
   "id": "873c141f-c36c-4a27-8173-ab461df08d40",
   "metadata": {},
   "outputs": [
    {
     "name": "stdout",
     "output_type": "stream",
     "text": [
      "I            PRON   4690420944186131903    I\n",
      "saw          VERB   11925638236994514241   see\n",
      "ten          NUM    7970704286052693043    ten\n",
      "mice         NOUN   1384165645700560590    mouse\n",
      "today        NOUN   11042482332948150395   today\n"
     ]
    }
   ],
   "source": [
    "doc2=nlp(u\"I saw ten mice today\")\n",
    "show_lemmas(doc2)"
   ]
  },
  {
   "cell_type": "code",
   "execution_count": 9,
   "id": "ae8c9723-128f-4817-bd3e-53731ba16764",
   "metadata": {},
   "outputs": [],
   "source": [
    "doc3=nlp(\"I am meeting him tomorrow at the meeting\")  # Pay attention to word lemma."
   ]
  },
  {
   "cell_type": "code",
   "execution_count": 10,
   "id": "b95e40d0-032f-4bd5-a79c-19d62ddab07f",
   "metadata": {},
   "outputs": [
    {
     "name": "stdout",
     "output_type": "stream",
     "text": [
      "I            PRON   4690420944186131903    I\n",
      "am           AUX    10382539506755952630   be\n",
      "meeting      VERB   6880656908171229526    meet\n",
      "him          PRON   1655312771067108281    he\n",
      "tomorrow     NOUN   3573583789758258062    tomorrow\n",
      "at           ADP    11667289587015813222   at\n",
      "the          DET    7425985699627899538    the\n",
      "meeting      NOUN   14798207169164081740   meeting\n"
     ]
    }
   ],
   "source": [
    "show_lemmas(doc3)"
   ]
  },
  {
   "cell_type": "code",
   "execution_count": null,
   "id": "a9c1e0df-aad2-4a5c-86cd-cd172e575157",
   "metadata": {},
   "outputs": [],
   "source": []
  }
 ],
 "metadata": {
  "kernelspec": {
   "display_name": "Python 3 (ipykernel)",
   "language": "python",
   "name": "python3"
  },
  "language_info": {
   "codemirror_mode": {
    "name": "ipython",
    "version": 3
   },
   "file_extension": ".py",
   "mimetype": "text/x-python",
   "name": "python",
   "nbconvert_exporter": "python",
   "pygments_lexer": "ipython3",
   "version": "3.11.7"
  }
 },
 "nbformat": 4,
 "nbformat_minor": 5
}
