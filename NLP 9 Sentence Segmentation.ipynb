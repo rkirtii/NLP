{
 "cells": [
  {
   "cell_type": "code",
   "execution_count": 1,
   "id": "7a59c7b9-1bb3-4dca-8de8-6263d26b7bf9",
   "metadata": {},
   "outputs": [],
   "source": [
    "import spacy"
   ]
  },
  {
   "cell_type": "code",
   "execution_count": 2,
   "id": "68103162-5b66-48f5-b1ce-c4250fec3950",
   "metadata": {},
   "outputs": [],
   "source": [
    "nlp=spacy.load(\"en_core_web_sm\")"
   ]
  },
  {
   "cell_type": "code",
   "execution_count": 3,
   "id": "046a45f0-96a6-4910-a7d6-a855427aa4fe",
   "metadata": {},
   "outputs": [],
   "source": [
    "doc = nlp(u'This is the first sentence. This is another sentence. This is the last sentence.')"
   ]
  },
  {
   "cell_type": "code",
   "execution_count": 4,
   "id": "d8efc3ef-5fad-49e1-afdf-88b8198ede7b",
   "metadata": {},
   "outputs": [
    {
     "name": "stdout",
     "output_type": "stream",
     "text": [
      "This is the first sentence.\n",
      "This is another sentence.\n",
      "This is the last sentence.\n"
     ]
    }
   ],
   "source": [
    "for doc in doc.sents:\n",
    "    print(doc)"
   ]
  },
  {
   "cell_type": "code",
   "execution_count": null,
   "id": "e6cfb899-74f7-42b9-ae92-44c8ff56e398",
   "metadata": {},
   "outputs": [],
   "source": []
  },
  {
   "cell_type": "code",
   "execution_count": null,
   "id": "5f55dfcc-04ef-4fa2-9b70-f5966fa80e75",
   "metadata": {},
   "outputs": [],
   "source": []
  },
  {
   "cell_type": "code",
   "execution_count": null,
   "id": "d491e69a-5c00-4814-a0e1-99f249d41662",
   "metadata": {},
   "outputs": [],
   "source": []
  },
  {
   "cell_type": "code",
   "execution_count": null,
   "id": "54df8b2c-5342-4797-85bb-bc31a4ff8a62",
   "metadata": {},
   "outputs": [],
   "source": []
  },
  {
   "cell_type": "code",
   "execution_count": null,
   "id": "a5e05de8-c790-4130-9682-b53d42dff8a2",
   "metadata": {},
   "outputs": [],
   "source": []
  },
  {
   "cell_type": "code",
   "execution_count": 5,
   "id": "63bcc54d-c672-49fd-8a96-b701585f5fb6",
   "metadata": {},
   "outputs": [],
   "source": [
    "doc = nlp(u'\"Management is doing things right; leadership is doing the right things.\" -Peter Drucker')"
   ]
  },
  {
   "cell_type": "code",
   "execution_count": 6,
   "id": "21875939-329b-4bdc-84f8-71a2747990b1",
   "metadata": {},
   "outputs": [
    {
     "data": {
      "text/plain": [
       "'\"Management is doing things right; leadership is doing the right things.\" -Peter Drucker'"
      ]
     },
     "execution_count": 6,
     "metadata": {},
     "output_type": "execute_result"
    }
   ],
   "source": [
    "doc.text\n",
    "\n",
    "# What if we want to cahnge this rule such that whenever there is a ; a new sentence starts."
   ]
  },
  {
   "cell_type": "code",
   "execution_count": 7,
   "id": "362bbd01-d66c-4fa3-97ff-8b789e7a3ddb",
   "metadata": {},
   "outputs": [
    {
     "name": "stdout",
     "output_type": "stream",
     "text": [
      "\"Management is doing things right; leadership is doing the right things.\"\n",
      "\n",
      "\n",
      "-Peter Drucker\n",
      "\n",
      "\n"
     ]
    }
   ],
   "source": [
    "for sent in doc.sents:\n",
    "    print(sent)\n",
    "    print('\\n')"
   ]
  },
  {
   "cell_type": "code",
   "execution_count": 8,
   "id": "34751269-3e50-4d03-9ae1-842318c7339e",
   "metadata": {},
   "outputs": [
    {
     "name": "stdout",
     "output_type": "stream",
     "text": [
      "0 \"\n",
      "1 Management\n",
      "2 is\n",
      "3 doing\n",
      "4 things\n",
      "5 right\n",
      "6 ;\n",
      "7 leadership\n",
      "8 is\n",
      "9 doing\n",
      "10 the\n",
      "11 right\n",
      "12 things\n",
      "13 .\n",
      "14 \"\n",
      "15 -Peter\n",
      "16 Drucker\n"
     ]
    }
   ],
   "source": [
    "for token in doc:\n",
    "    print(token.i,token.text)"
   ]
  },
  {
   "cell_type": "code",
   "execution_count": 9,
   "id": "552f1cec-c4c9-402a-817e-f03843ab4729",
   "metadata": {},
   "outputs": [
    {
     "data": {
      "text/plain": [
       "<function __main__.set_custom_boundaries(doc)>"
      ]
     },
     "execution_count": 9,
     "metadata": {},
     "output_type": "execute_result"
    }
   ],
   "source": [
    "# ADD A NEW RULE TO THE PIPELINE\n",
    "\n",
    "from spacy.language import Language\n",
    "\n",
    "@Language.component(\"set_custom_boundaries\")\n",
    "def set_custom_boundaries(doc):\n",
    "    for token in doc[:-1]:     # Not including the last word of doc i.e Drucker.\n",
    "        if token.text == ';':\n",
    "            doc[token.i+1].is_sent_start = True\n",
    "    return doc\n",
    "\n",
    "nlp.add_pipe(\"set_custom_boundaries\", before=\"parser\")\n",
    "\n",
    "# Run the code once because it gets in the pipeline and it cannot inserted in the pipeline with the same name."
   ]
  },
  {
   "cell_type": "code",
   "execution_count": 10,
   "id": "cc9f0700-ae4a-4c05-bf86-29b36a26b223",
   "metadata": {},
   "outputs": [
    {
     "name": "stdout",
     "output_type": "stream",
     "text": [
      "['tok2vec', 'tagger', 'set_custom_boundaries', 'parser', 'attribute_ruler', 'lemmatizer', 'ner']\n"
     ]
    }
   ],
   "source": [
    "print(nlp.pipe_names)"
   ]
  },
  {
   "cell_type": "code",
   "execution_count": null,
   "id": "dfd9de55-3161-4079-8d61-d24ce09c4f90",
   "metadata": {},
   "outputs": [],
   "source": []
  },
  {
   "cell_type": "code",
   "execution_count": 11,
   "id": "8ba71b97-22f9-40c8-9a94-c522ce9745fe",
   "metadata": {},
   "outputs": [
    {
     "data": {
      "text/plain": [
       "\"Management is doing things right; leadership is doing the right things.\" -Peter"
      ]
     },
     "execution_count": 11,
     "metadata": {},
     "output_type": "execute_result"
    }
   ],
   "source": [
    "doc[:-1]"
   ]
  },
  {
   "cell_type": "code",
   "execution_count": 12,
   "id": "d79b102c-9900-4208-a0eb-33051acd5029",
   "metadata": {},
   "outputs": [],
   "source": [
    "doc4 = nlp(u'\"Management is doing things right; leadership is doing the right things.\" -Peter Drucker')"
   ]
  },
  {
   "cell_type": "code",
   "execution_count": 13,
   "id": "1a20b0da-26a4-4361-abe9-c031d227f304",
   "metadata": {},
   "outputs": [
    {
     "name": "stdout",
     "output_type": "stream",
     "text": [
      "\"Management is doing things right;\n",
      "leadership is doing the right things.\"\n",
      "-Peter Drucker\n"
     ]
    }
   ],
   "source": [
    "for sent in doc4.sents:\n",
    "    print(sent)"
   ]
  },
  {
   "cell_type": "code",
   "execution_count": null,
   "id": "210844b9-a5da-4a1c-8aca-06b2f7b5775b",
   "metadata": {},
   "outputs": [],
   "source": []
  }
 ],
 "metadata": {
  "kernelspec": {
   "display_name": "Python 3 (ipykernel)",
   "language": "python",
   "name": "python3"
  },
  "language_info": {
   "codemirror_mode": {
    "name": "ipython",
    "version": 3
   },
   "file_extension": ".py",
   "mimetype": "text/x-python",
   "name": "python",
   "nbconvert_exporter": "python",
   "pygments_lexer": "ipython3",
   "version": "3.11.7"
  }
 },
 "nbformat": 4,
 "nbformat_minor": 5
}
